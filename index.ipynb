{
 "cells": [
  {
   "cell_type": "markdown",
   "id": "5257d2a7",
   "metadata": {},
   "source": [
    "# Aircraft Selection Project"
   ]
  },
  {
   "cell_type": "markdown",
   "id": "01959659",
   "metadata": {},
   "source": [
    "## Project Overview\n",
    "\n",
    "As part of the company’s strategy to expand into new industries and diversify its portfolio, leadership has identified the aviation sector as a promising opportunity. The organization is exploring the acquisition and operation of aircraft for both commercial and private enterprises. However, there is limited internal expertise on the risks associated with various aircraft makes and models.\n",
    "\n",
    "To support this strategic move, this project aims to analyze historical aircraft incident data to identify which aircraft types present the lowest operational risk. The goal is to provide data-driven recommendations that will inform purchasing decisions and guide the company’s entry into the aviation space."
   ]
  },
  {
   "cell_type": "markdown",
   "id": "28e21354",
   "metadata": {},
   "source": [
    "## Objectives\n",
    "\n",
    "1. Analyze injury data from aviation incidents involving various aircraft makes and models.\n",
    "\n",
    "2. Develop a risk scoring system based on severity and frequency of injuries.\n",
    "\n",
    "3. Visualize and summarize the safest and riskiest aircraft models.\n",
    "\n",
    "4. Provide actionable insights and procurement recommendations to leadership."
   ]
  },
  {
   "cell_type": "markdown",
   "id": "65028e41",
   "metadata": {},
   "source": [
    "## Importing Libaries"
   ]
  },
  {
   "cell_type": "code",
   "execution_count": 1,
   "id": "76c1be3f",
   "metadata": {},
   "outputs": [],
   "source": [
    "# Let's import the necessary libraries for our project\n",
    "\n",
    "import pandas as pd\n",
    "import matplotlib.pyplot as plt\n",
    "%matplotlib inline"
   ]
  },
  {
   "cell_type": "markdown",
   "id": "75710fe1",
   "metadata": {},
   "source": [
    "## Data Preparation and Cleaning"
   ]
  },
  {
   "cell_type": "code",
   "execution_count": 2,
   "id": "70e31121",
   "metadata": {},
   "outputs": [
    {
     "name": "stderr",
     "output_type": "stream",
     "text": [
      "C:\\Users\\USER\\AppData\\Local\\Temp\\ipykernel_6596\\3918863186.py:3: DtypeWarning: Columns (6,7,28) have mixed types. Specify dtype option on import or set low_memory=False.\n",
      "  df = pd.read_csv('AviationData.csv', encoding = 'Windows-1252')\n"
     ]
    }
   ],
   "source": [
    "# We load the data from our csv file for further manipulation\n",
    "# Our data is encoded in Windows-1252\n",
    "df = pd.read_csv('AviationData.csv', encoding = 'Windows-1252')"
   ]
  },
  {
   "cell_type": "code",
   "execution_count": 3,
   "id": "bb02a374",
   "metadata": {},
   "outputs": [
    {
     "name": "stdout",
     "output_type": "stream",
     "text": [
      "<class 'pandas.core.frame.DataFrame'>\n",
      "RangeIndex: 88889 entries, 0 to 88888\n",
      "Data columns (total 31 columns):\n",
      " #   Column                  Non-Null Count  Dtype  \n",
      "---  ------                  --------------  -----  \n",
      " 0   Event.Id                88889 non-null  object \n",
      " 1   Investigation.Type      88889 non-null  object \n",
      " 2   Accident.Number         88889 non-null  object \n",
      " 3   Event.Date              88889 non-null  object \n",
      " 4   Location                88837 non-null  object \n",
      " 5   Country                 88663 non-null  object \n",
      " 6   Latitude                34382 non-null  object \n",
      " 7   Longitude               34373 non-null  object \n",
      " 8   Airport.Code            50132 non-null  object \n",
      " 9   Airport.Name            52704 non-null  object \n",
      " 10  Injury.Severity         87889 non-null  object \n",
      " 11  Aircraft.damage         85695 non-null  object \n",
      " 12  Aircraft.Category       32287 non-null  object \n",
      " 13  Registration.Number     87507 non-null  object \n",
      " 14  Make                    88826 non-null  object \n",
      " 15  Model                   88797 non-null  object \n",
      " 16  Amateur.Built           88787 non-null  object \n",
      " 17  Number.of.Engines       82805 non-null  float64\n",
      " 18  Engine.Type             81793 non-null  object \n",
      " 19  FAR.Description         32023 non-null  object \n",
      " 20  Schedule                12582 non-null  object \n",
      " 21  Purpose.of.flight       82697 non-null  object \n",
      " 22  Air.carrier             16648 non-null  object \n",
      " 23  Total.Fatal.Injuries    77488 non-null  float64\n",
      " 24  Total.Serious.Injuries  76379 non-null  float64\n",
      " 25  Total.Minor.Injuries    76956 non-null  float64\n",
      " 26  Total.Uninjured         82977 non-null  float64\n",
      " 27  Weather.Condition       84397 non-null  object \n",
      " 28  Broad.phase.of.flight   61724 non-null  object \n",
      " 29  Report.Status           82505 non-null  object \n",
      " 30  Publication.Date        75118 non-null  object \n",
      "dtypes: float64(5), object(26)\n",
      "memory usage: 21.0+ MB\n"
     ]
    }
   ],
   "source": [
    "# Let's inspect the data\n",
    "df.info()"
   ]
  },
  {
   "cell_type": "code",
   "execution_count": 4,
   "id": "4f1f7efc",
   "metadata": {},
   "outputs": [
    {
     "data": {
      "text/plain": [
       "Index(['Event.Id', 'Investigation.Type', 'Accident.Number', 'Event.Date',\n",
       "       'Location', 'Country', 'Latitude', 'Longitude', 'Airport.Code',\n",
       "       'Airport.Name', 'Injury.Severity', 'Aircraft.damage',\n",
       "       'Aircraft.Category', 'Registration.Number', 'Make', 'Model',\n",
       "       'Amateur.Built', 'Number.of.Engines', 'Engine.Type', 'FAR.Description',\n",
       "       'Schedule', 'Purpose.of.flight', 'Air.carrier', 'Total.Fatal.Injuries',\n",
       "       'Total.Serious.Injuries', 'Total.Minor.Injuries', 'Total.Uninjured',\n",
       "       'Weather.Condition', 'Broad.phase.of.flight', 'Report.Status',\n",
       "       'Publication.Date'],\n",
       "      dtype='object')"
      ]
     },
     "execution_count": 4,
     "metadata": {},
     "output_type": "execute_result"
    }
   ],
   "source": [
    "# Let us see what each column name is\n",
    "df.columns"
   ]
  },
  {
   "cell_type": "code",
   "execution_count": 5,
   "id": "8d276ed6",
   "metadata": {},
   "outputs": [
    {
     "data": {
      "text/html": [
       "<div>\n",
       "<style scoped>\n",
       "    .dataframe tbody tr th:only-of-type {\n",
       "        vertical-align: middle;\n",
       "    }\n",
       "\n",
       "    .dataframe tbody tr th {\n",
       "        vertical-align: top;\n",
       "    }\n",
       "\n",
       "    .dataframe thead th {\n",
       "        text-align: right;\n",
       "    }\n",
       "</style>\n",
       "<table border=\"1\" class=\"dataframe\">\n",
       "  <thead>\n",
       "    <tr style=\"text-align: right;\">\n",
       "      <th></th>\n",
       "      <th>Make</th>\n",
       "      <th>Model</th>\n",
       "    </tr>\n",
       "  </thead>\n",
       "  <tbody>\n",
       "    <tr>\n",
       "      <th>0</th>\n",
       "      <td>Stinson</td>\n",
       "      <td>108-3</td>\n",
       "    </tr>\n",
       "    <tr>\n",
       "      <th>1</th>\n",
       "      <td>Piper</td>\n",
       "      <td>PA24-180</td>\n",
       "    </tr>\n",
       "    <tr>\n",
       "      <th>2</th>\n",
       "      <td>Cessna</td>\n",
       "      <td>172M</td>\n",
       "    </tr>\n",
       "    <tr>\n",
       "      <th>3</th>\n",
       "      <td>Rockwell</td>\n",
       "      <td>112</td>\n",
       "    </tr>\n",
       "    <tr>\n",
       "      <th>4</th>\n",
       "      <td>Cessna</td>\n",
       "      <td>501</td>\n",
       "    </tr>\n",
       "  </tbody>\n",
       "</table>\n",
       "</div>"
      ],
      "text/plain": [
       "       Make     Model\n",
       "0   Stinson     108-3\n",
       "1     Piper  PA24-180\n",
       "2    Cessna      172M\n",
       "3  Rockwell       112\n",
       "4    Cessna       501"
      ]
     },
     "execution_count": 5,
     "metadata": {},
     "output_type": "execute_result"
    }
   ],
   "source": [
    "# We have columns 'Make' and 'Model'\n",
    "#These would serve as a good index when combined to give us specific aircrafts\n",
    "df[['Make', 'Model']].head()"
   ]
  },
  {
   "cell_type": "code",
   "execution_count": 6,
   "id": "6deb525a",
   "metadata": {},
   "outputs": [
    {
     "data": {
      "text/html": [
       "<div>\n",
       "<style scoped>\n",
       "    .dataframe tbody tr th:only-of-type {\n",
       "        vertical-align: middle;\n",
       "    }\n",
       "\n",
       "    .dataframe tbody tr th {\n",
       "        vertical-align: top;\n",
       "    }\n",
       "\n",
       "    .dataframe thead th {\n",
       "        text-align: right;\n",
       "    }\n",
       "</style>\n",
       "<table border=\"1\" class=\"dataframe\">\n",
       "  <thead>\n",
       "    <tr style=\"text-align: right;\">\n",
       "      <th></th>\n",
       "      <th>Total.Fatal.Injuries</th>\n",
       "      <th>Total.Serious.Injuries</th>\n",
       "      <th>Total.Minor.Injuries</th>\n",
       "      <th>Total.Uninjured</th>\n",
       "    </tr>\n",
       "  </thead>\n",
       "  <tbody>\n",
       "    <tr>\n",
       "      <th>0</th>\n",
       "      <td>2.0</td>\n",
       "      <td>0.0</td>\n",
       "      <td>0.0</td>\n",
       "      <td>0.0</td>\n",
       "    </tr>\n",
       "    <tr>\n",
       "      <th>1</th>\n",
       "      <td>4.0</td>\n",
       "      <td>0.0</td>\n",
       "      <td>0.0</td>\n",
       "      <td>0.0</td>\n",
       "    </tr>\n",
       "    <tr>\n",
       "      <th>2</th>\n",
       "      <td>3.0</td>\n",
       "      <td>NaN</td>\n",
       "      <td>NaN</td>\n",
       "      <td>NaN</td>\n",
       "    </tr>\n",
       "    <tr>\n",
       "      <th>3</th>\n",
       "      <td>2.0</td>\n",
       "      <td>0.0</td>\n",
       "      <td>0.0</td>\n",
       "      <td>0.0</td>\n",
       "    </tr>\n",
       "    <tr>\n",
       "      <th>4</th>\n",
       "      <td>1.0</td>\n",
       "      <td>2.0</td>\n",
       "      <td>NaN</td>\n",
       "      <td>0.0</td>\n",
       "    </tr>\n",
       "  </tbody>\n",
       "</table>\n",
       "</div>"
      ],
      "text/plain": [
       "   Total.Fatal.Injuries  Total.Serious.Injuries  Total.Minor.Injuries  \\\n",
       "0                   2.0                     0.0                   0.0   \n",
       "1                   4.0                     0.0                   0.0   \n",
       "2                   3.0                     NaN                   NaN   \n",
       "3                   2.0                     0.0                   0.0   \n",
       "4                   1.0                     2.0                   NaN   \n",
       "\n",
       "   Total.Uninjured  \n",
       "0              0.0  \n",
       "1              0.0  \n",
       "2              NaN  \n",
       "3              0.0  \n",
       "4              0.0  "
      ]
     },
     "execution_count": 6,
     "metadata": {},
     "output_type": "execute_result"
    }
   ],
   "source": [
    "# For each flight, there are a number injuries with various degrees of severity\n",
    "df[['Total.Fatal.Injuries', 'Total.Serious.Injuries', 'Total.Minor.Injuries', 'Total.Uninjured']].head()"
   ]
  },
  {
   "cell_type": "code",
   "execution_count": 7,
   "id": "9b78496f",
   "metadata": {},
   "outputs": [
    {
     "data": {
      "text/html": [
       "<div>\n",
       "<style scoped>\n",
       "    .dataframe tbody tr th:only-of-type {\n",
       "        vertical-align: middle;\n",
       "    }\n",
       "\n",
       "    .dataframe tbody tr th {\n",
       "        vertical-align: top;\n",
       "    }\n",
       "\n",
       "    .dataframe thead th {\n",
       "        text-align: right;\n",
       "    }\n",
       "</style>\n",
       "<table border=\"1\" class=\"dataframe\">\n",
       "  <thead>\n",
       "    <tr style=\"text-align: right;\">\n",
       "      <th></th>\n",
       "      <th>Make</th>\n",
       "      <th>Model</th>\n",
       "      <th>Total.Fatal.Injuries</th>\n",
       "      <th>Total.Serious.Injuries</th>\n",
       "      <th>Total.Minor.Injuries</th>\n",
       "      <th>Total.Uninjured</th>\n",
       "    </tr>\n",
       "  </thead>\n",
       "  <tbody>\n",
       "    <tr>\n",
       "      <th>0</th>\n",
       "      <td>Stinson</td>\n",
       "      <td>108-3</td>\n",
       "      <td>2.0</td>\n",
       "      <td>0.0</td>\n",
       "      <td>0.0</td>\n",
       "      <td>0.0</td>\n",
       "    </tr>\n",
       "    <tr>\n",
       "      <th>1</th>\n",
       "      <td>Piper</td>\n",
       "      <td>PA24-180</td>\n",
       "      <td>4.0</td>\n",
       "      <td>0.0</td>\n",
       "      <td>0.0</td>\n",
       "      <td>0.0</td>\n",
       "    </tr>\n",
       "    <tr>\n",
       "      <th>2</th>\n",
       "      <td>Cessna</td>\n",
       "      <td>172M</td>\n",
       "      <td>3.0</td>\n",
       "      <td>NaN</td>\n",
       "      <td>NaN</td>\n",
       "      <td>NaN</td>\n",
       "    </tr>\n",
       "    <tr>\n",
       "      <th>3</th>\n",
       "      <td>Rockwell</td>\n",
       "      <td>112</td>\n",
       "      <td>2.0</td>\n",
       "      <td>0.0</td>\n",
       "      <td>0.0</td>\n",
       "      <td>0.0</td>\n",
       "    </tr>\n",
       "    <tr>\n",
       "      <th>4</th>\n",
       "      <td>Cessna</td>\n",
       "      <td>501</td>\n",
       "      <td>1.0</td>\n",
       "      <td>2.0</td>\n",
       "      <td>NaN</td>\n",
       "      <td>0.0</td>\n",
       "    </tr>\n",
       "  </tbody>\n",
       "</table>\n",
       "</div>"
      ],
      "text/plain": [
       "       Make     Model  Total.Fatal.Injuries  Total.Serious.Injuries  \\\n",
       "0   Stinson     108-3                   2.0                     0.0   \n",
       "1     Piper  PA24-180                   4.0                     0.0   \n",
       "2    Cessna      172M                   3.0                     NaN   \n",
       "3  Rockwell       112                   2.0                     0.0   \n",
       "4    Cessna       501                   1.0                     2.0   \n",
       "\n",
       "   Total.Minor.Injuries  Total.Uninjured  \n",
       "0                   0.0              0.0  \n",
       "1                   0.0              0.0  \n",
       "2                   NaN              NaN  \n",
       "3                   0.0              0.0  \n",
       "4                   NaN              0.0  "
      ]
     },
     "execution_count": 7,
     "metadata": {},
     "output_type": "execute_result"
    }
   ],
   "source": [
    "# Let's create a new datafrae with the relevant columns\n",
    "columns = ['Make', 'Model', 'Total.Fatal.Injuries', 'Total.Serious.Injuries', 'Total.Minor.Injuries', 'Total.Uninjured' ]\n",
    "df_2 = df.loc[:, columns]\n",
    "df_2.head()"
   ]
  },
  {
   "cell_type": "code",
   "execution_count": 8,
   "id": "73a66013",
   "metadata": {},
   "outputs": [
    {
     "name": "stdout",
     "output_type": "stream",
     "text": [
      "<class 'pandas.core.frame.DataFrame'>\n",
      "RangeIndex: 88889 entries, 0 to 88888\n",
      "Data columns (total 6 columns):\n",
      " #   Column                  Non-Null Count  Dtype  \n",
      "---  ------                  --------------  -----  \n",
      " 0   Make                    88826 non-null  object \n",
      " 1   Model                   88797 non-null  object \n",
      " 2   Total.Fatal.Injuries    77488 non-null  float64\n",
      " 3   Total.Serious.Injuries  76379 non-null  float64\n",
      " 4   Total.Minor.Injuries    76956 non-null  float64\n",
      " 5   Total.Uninjured         82977 non-null  float64\n",
      "dtypes: float64(4), object(2)\n",
      "memory usage: 4.1+ MB\n"
     ]
    }
   ],
   "source": [
    "# Let's inspect these specific columns\n",
    "df_2.info()"
   ]
  },
  {
   "cell_type": "code",
   "execution_count": 9,
   "id": "61f28924",
   "metadata": {},
   "outputs": [
    {
     "name": "stdout",
     "output_type": "stream",
     "text": [
      "<class 'pandas.core.frame.DataFrame'>\n",
      "Index: 74270 entries, 0 to 88888\n",
      "Data columns (total 6 columns):\n",
      " #   Column                  Non-Null Count  Dtype  \n",
      "---  ------                  --------------  -----  \n",
      " 0   Make                    74270 non-null  object \n",
      " 1   Model                   74270 non-null  object \n",
      " 2   Total.Fatal.Injuries    74270 non-null  float64\n",
      " 3   Total.Serious.Injuries  74270 non-null  float64\n",
      " 4   Total.Minor.Injuries    74270 non-null  float64\n",
      " 5   Total.Uninjured         74270 non-null  float64\n",
      "dtypes: float64(4), object(2)\n",
      "memory usage: 4.0+ MB\n"
     ]
    }
   ],
   "source": [
    "# We have several null values, let's see how much dropping them will affect our dataset\n",
    "df_2.dropna().info()"
   ]
  },
  {
   "cell_type": "code",
   "execution_count": 10,
   "id": "b51410be",
   "metadata": {},
   "outputs": [],
   "source": [
    "# Not bad. We can now drop them permanently\n",
    "df_2.dropna(inplace = True)"
   ]
  },
  {
   "cell_type": "markdown",
   "id": "63d8c9b2",
   "metadata": {},
   "source": [
    "## Risk Assesment\n",
    "\n",
    "The risk involved with an aircraft is tied to the number and severity of injuries for that aircraft.\n",
    "Also, there is a risk involved with aircrafts that have not been used frequently. But since we can't access all the flight logs, we will use the injuries as our risk factor. We will factor in the amount of data available for each aircraft as well."
   ]
  },
  {
   "cell_type": "code",
   "execution_count": 11,
   "id": "5b6462e7",
   "metadata": {},
   "outputs": [],
   "source": [
    "# Let us create a new column that will tell us how risky the aircraft is considering the number and severity of injuries\n",
    "df_2['Risk.Score'] = (df_2['Total.Fatal.Injuries'] * 500 +\n",
    "                      df_2['Total.Serious.Injuries'] * 300 +\n",
    "                      df_2['Total.Minor.Injuries'] * 100)"
   ]
  },
  {
   "cell_type": "code",
   "execution_count": 12,
   "id": "46efa8d6",
   "metadata": {},
   "outputs": [
    {
     "data": {
      "text/html": [
       "<div>\n",
       "<style scoped>\n",
       "    .dataframe tbody tr th:only-of-type {\n",
       "        vertical-align: middle;\n",
       "    }\n",
       "\n",
       "    .dataframe tbody tr th {\n",
       "        vertical-align: top;\n",
       "    }\n",
       "\n",
       "    .dataframe thead th {\n",
       "        text-align: right;\n",
       "    }\n",
       "</style>\n",
       "<table border=\"1\" class=\"dataframe\">\n",
       "  <thead>\n",
       "    <tr style=\"text-align: right;\">\n",
       "      <th></th>\n",
       "      <th>Make</th>\n",
       "      <th>Model</th>\n",
       "      <th>Event.Count</th>\n",
       "    </tr>\n",
       "  </thead>\n",
       "  <tbody>\n",
       "    <tr>\n",
       "      <th>0</th>\n",
       "      <td>177MF LLC</td>\n",
       "      <td>PITTS MODEL 12</td>\n",
       "      <td>1</td>\n",
       "    </tr>\n",
       "    <tr>\n",
       "      <th>1</th>\n",
       "      <td>1st Ftr Gp</td>\n",
       "      <td>FOCKE-WULF 190</td>\n",
       "      <td>1</td>\n",
       "    </tr>\n",
       "    <tr>\n",
       "      <th>2</th>\n",
       "      <td>2007 Savage Air LLC</td>\n",
       "      <td>EPIC LT</td>\n",
       "      <td>1</td>\n",
       "    </tr>\n",
       "    <tr>\n",
       "      <th>3</th>\n",
       "      <td>2021FX3 LLC</td>\n",
       "      <td>CCX-2000</td>\n",
       "      <td>2</td>\n",
       "    </tr>\n",
       "    <tr>\n",
       "      <th>4</th>\n",
       "      <td>3XTRIM</td>\n",
       "      <td>450 ULTRA</td>\n",
       "      <td>1</td>\n",
       "    </tr>\n",
       "    <tr>\n",
       "      <th>...</th>\n",
       "      <td>...</td>\n",
       "      <td>...</td>\n",
       "      <td>...</td>\n",
       "    </tr>\n",
       "    <tr>\n",
       "      <th>16976</th>\n",
       "      <td>de Havilland</td>\n",
       "      <td>DHC-3</td>\n",
       "      <td>1</td>\n",
       "    </tr>\n",
       "    <tr>\n",
       "      <th>16977</th>\n",
       "      <td>de Havilland</td>\n",
       "      <td>DHC-6-200</td>\n",
       "      <td>1</td>\n",
       "    </tr>\n",
       "    <tr>\n",
       "      <th>16978</th>\n",
       "      <td>de Havilland</td>\n",
       "      <td>DHC-8-202</td>\n",
       "      <td>1</td>\n",
       "    </tr>\n",
       "    <tr>\n",
       "      <th>16979</th>\n",
       "      <td>drone</td>\n",
       "      <td>Viper Pro</td>\n",
       "      <td>1</td>\n",
       "    </tr>\n",
       "    <tr>\n",
       "      <th>16980</th>\n",
       "      <td>unknown</td>\n",
       "      <td>kit</td>\n",
       "      <td>1</td>\n",
       "    </tr>\n",
       "  </tbody>\n",
       "</table>\n",
       "<p>16981 rows × 3 columns</p>\n",
       "</div>"
      ],
      "text/plain": [
       "                      Make           Model  Event.Count\n",
       "0                177MF LLC  PITTS MODEL 12            1\n",
       "1               1st Ftr Gp  FOCKE-WULF 190            1\n",
       "2      2007 Savage Air LLC         EPIC LT            1\n",
       "3              2021FX3 LLC        CCX-2000            2\n",
       "4                   3XTRIM       450 ULTRA            1\n",
       "...                    ...             ...          ...\n",
       "16976         de Havilland           DHC-3            1\n",
       "16977         de Havilland       DHC-6-200            1\n",
       "16978         de Havilland       DHC-8-202            1\n",
       "16979                drone       Viper Pro            1\n",
       "16980              unknown             kit            1\n",
       "\n",
       "[16981 rows x 3 columns]"
      ]
     },
     "execution_count": 12,
     "metadata": {},
     "output_type": "execute_result"
    }
   ],
   "source": [
    "#Let's make a count for the number of events associated with each aircraft\n",
    "event_counts = df_2.groupby(['Make', 'Model']).size().reset_index(name='Event.Count')\n",
    "event_counts"
   ]
  },
  {
   "cell_type": "code",
   "execution_count": 13,
   "id": "39d6da3a",
   "metadata": {},
   "outputs": [],
   "source": [
    "# Let's merge the event_counts and the rest of our Data\n",
    "df_3 = df_2.merge(event_counts, on=['Make', 'Model'])"
   ]
  },
  {
   "cell_type": "code",
   "execution_count": 14,
   "id": "c5d7f6b9",
   "metadata": {},
   "outputs": [
    {
     "data": {
      "text/plain": [
       "array([  66,    4,    5,  408,  278,    6,    1,  410,   97,   91,   61,\n",
       "         21,   11,   37, 1107, 1923,  356,  119,   80,   38,   31,   45,\n",
       "         93,  122,  403,  117,  152,  247,  151,  159,   48,   17,  253,\n",
       "         62,  165,    3,  116,   20,  146,   41,  533,  672,   52,  787,\n",
       "        110,   22,  127,  239,    9,   15,   55,   39,   23,    8,   63,\n",
       "         68,   28,  190,  144,  476,  232,    7,   26,    2,  657,  240,\n",
       "        324,  129,  392,   58,  118,  114,  171,   47,  192,  401,   18,\n",
       "        128,  132,  321,  266,   67,  157,  206,  245,  140,  170,   14,\n",
       "        173,   51,  478,   84,  183,   49,  181,   10,   43,  120,  113,\n",
       "         89,   76,  381,   65,   56,   64,   24,   40,   73,  208,   29,\n",
       "        141,   69,  172,  434,  124,   82,   27,   54,  214,   46,   30,\n",
       "         95,  196,   12,   36,   99,   85,   16,   74,  131,   53,  104,\n",
       "         86,   13,   81,   35,  103,   44,   96,   72,  339,  148,   19,\n",
       "         34,  108,  189,   42,   57,   33,  191,  134,   78,   25,   71,\n",
       "        213,   50,   32,   60,   59,   79,   70,  167,  198,  143,  435,\n",
       "        126,  499,  195,  185,   83,   92,   77,  139], dtype=int64)"
      ]
     },
     "execution_count": 14,
     "metadata": {},
     "output_type": "execute_result"
    }
   ],
   "source": [
    "# Let's see the distribution of event counts\n",
    "df_3[\"Event.Count\"].unique()"
   ]
  },
  {
   "cell_type": "code",
   "execution_count": 15,
   "id": "c05e291b",
   "metadata": {},
   "outputs": [],
   "source": [
    "# Now we can flag the aircrafts based on its volume of samples\n",
    "\n",
    "def flag_low_data(count):\n",
    "    if count == 1:\n",
    "        return 'Only 1 event'\n",
    "    elif count <= 5:\n",
    "        return '5 or less events'\n",
    "    elif count <= 10:\n",
    "        return \"10 or less events\"\n",
    "    else:\n",
    "        return \"Sufficient Data\"\n",
    "\n",
    "df_3['Flag'] = df_3['Event.Count'].apply(flag_low_data)"
   ]
  },
  {
   "cell_type": "code",
   "execution_count": 16,
   "id": "40d9b78c",
   "metadata": {},
   "outputs": [
    {
     "data": {
      "text/html": [
       "<div>\n",
       "<style scoped>\n",
       "    .dataframe tbody tr th:only-of-type {\n",
       "        vertical-align: middle;\n",
       "    }\n",
       "\n",
       "    .dataframe tbody tr th {\n",
       "        vertical-align: top;\n",
       "    }\n",
       "\n",
       "    .dataframe thead th {\n",
       "        text-align: right;\n",
       "    }\n",
       "</style>\n",
       "<table border=\"1\" class=\"dataframe\">\n",
       "  <thead>\n",
       "    <tr style=\"text-align: right;\">\n",
       "      <th></th>\n",
       "      <th>Make</th>\n",
       "      <th>Model</th>\n",
       "      <th>Total.Fatal.Injuries</th>\n",
       "      <th>Total.Serious.Injuries</th>\n",
       "      <th>Total.Minor.Injuries</th>\n",
       "      <th>Total.Uninjured</th>\n",
       "      <th>Risk.Score</th>\n",
       "      <th>Event.Count</th>\n",
       "      <th>Flag</th>\n",
       "    </tr>\n",
       "  </thead>\n",
       "  <tbody>\n",
       "    <tr>\n",
       "      <th>0</th>\n",
       "      <td>Stinson</td>\n",
       "      <td>108-3</td>\n",
       "      <td>2.0</td>\n",
       "      <td>0.0</td>\n",
       "      <td>0.0</td>\n",
       "      <td>0.0</td>\n",
       "      <td>1000.0</td>\n",
       "      <td>66</td>\n",
       "      <td>Sufficient Data</td>\n",
       "    </tr>\n",
       "    <tr>\n",
       "      <th>1</th>\n",
       "      <td>Piper</td>\n",
       "      <td>PA24-180</td>\n",
       "      <td>4.0</td>\n",
       "      <td>0.0</td>\n",
       "      <td>0.0</td>\n",
       "      <td>0.0</td>\n",
       "      <td>2000.0</td>\n",
       "      <td>4</td>\n",
       "      <td>5 or less events</td>\n",
       "    </tr>\n",
       "    <tr>\n",
       "      <th>2</th>\n",
       "      <td>Rockwell</td>\n",
       "      <td>112</td>\n",
       "      <td>2.0</td>\n",
       "      <td>0.0</td>\n",
       "      <td>0.0</td>\n",
       "      <td>0.0</td>\n",
       "      <td>1000.0</td>\n",
       "      <td>5</td>\n",
       "      <td>5 or less events</td>\n",
       "    </tr>\n",
       "    <tr>\n",
       "      <th>3</th>\n",
       "      <td>Cessna</td>\n",
       "      <td>180</td>\n",
       "      <td>4.0</td>\n",
       "      <td>0.0</td>\n",
       "      <td>0.0</td>\n",
       "      <td>0.0</td>\n",
       "      <td>2000.0</td>\n",
       "      <td>408</td>\n",
       "      <td>Sufficient Data</td>\n",
       "    </tr>\n",
       "    <tr>\n",
       "      <th>4</th>\n",
       "      <td>Cessna</td>\n",
       "      <td>140</td>\n",
       "      <td>0.0</td>\n",
       "      <td>0.0</td>\n",
       "      <td>0.0</td>\n",
       "      <td>2.0</td>\n",
       "      <td>0.0</td>\n",
       "      <td>278</td>\n",
       "      <td>Sufficient Data</td>\n",
       "    </tr>\n",
       "  </tbody>\n",
       "</table>\n",
       "</div>"
      ],
      "text/plain": [
       "       Make     Model  Total.Fatal.Injuries  Total.Serious.Injuries  \\\n",
       "0   Stinson     108-3                   2.0                     0.0   \n",
       "1     Piper  PA24-180                   4.0                     0.0   \n",
       "2  Rockwell       112                   2.0                     0.0   \n",
       "3    Cessna       180                   4.0                     0.0   \n",
       "4    Cessna       140                   0.0                     0.0   \n",
       "\n",
       "   Total.Minor.Injuries  Total.Uninjured  Risk.Score  Event.Count  \\\n",
       "0                   0.0              0.0      1000.0           66   \n",
       "1                   0.0              0.0      2000.0            4   \n",
       "2                   0.0              0.0      1000.0            5   \n",
       "3                   0.0              0.0      2000.0          408   \n",
       "4                   0.0              2.0         0.0          278   \n",
       "\n",
       "               Flag  \n",
       "0   Sufficient Data  \n",
       "1  5 or less events  \n",
       "2  5 or less events  \n",
       "3   Sufficient Data  \n",
       "4   Sufficient Data  "
      ]
     },
     "execution_count": 16,
     "metadata": {},
     "output_type": "execute_result"
    }
   ],
   "source": [
    "# Let's see our new Dataframe with the added columns\n",
    "df_3.head() "
   ]
  },
  {
   "cell_type": "code",
   "execution_count": 17,
   "id": "8239e28a",
   "metadata": {},
   "outputs": [
    {
     "data": {
      "text/plain": [
       "0     Stinson-108-3\n",
       "1    Piper-PA24-180\n",
       "2      Rockwell-112\n",
       "3        Cessna-180\n",
       "4        Cessna-140\n",
       "Name: Identifier, dtype: object"
      ]
     },
     "execution_count": 17,
     "metadata": {},
     "output_type": "execute_result"
    }
   ],
   "source": [
    "# Let's combine 'Make' and 'Model' into one identifier\n",
    "\n",
    "df_3['Identifier'] = df_3['Make'] + '-' + df_3['Model']\n",
    "df_3['Identifier'].head()"
   ]
  },
  {
   "cell_type": "markdown",
   "id": "f82dcd42",
   "metadata": {},
   "source": [
    "## Preparing Data for Visualisation\n",
    "\n",
    "Now we'll create a final dataframe to create our visualisations"
   ]
  },
  {
   "cell_type": "code",
   "execution_count": 18,
   "id": "01646daf",
   "metadata": {},
   "outputs": [
    {
     "data": {
      "text/html": [
       "<div>\n",
       "<style scoped>\n",
       "    .dataframe tbody tr th:only-of-type {\n",
       "        vertical-align: middle;\n",
       "    }\n",
       "\n",
       "    .dataframe tbody tr th {\n",
       "        vertical-align: top;\n",
       "    }\n",
       "\n",
       "    .dataframe thead th {\n",
       "        text-align: right;\n",
       "    }\n",
       "</style>\n",
       "<table border=\"1\" class=\"dataframe\">\n",
       "  <thead>\n",
       "    <tr style=\"text-align: right;\">\n",
       "      <th></th>\n",
       "      <th>Identifier</th>\n",
       "      <th>Total.Fatal.Injuries</th>\n",
       "      <th>Total.Serious.Injuries</th>\n",
       "      <th>Total.Minor.Injuries</th>\n",
       "      <th>Total.Uninjured</th>\n",
       "      <th>Risk.Score</th>\n",
       "      <th>Event.Count</th>\n",
       "      <th>Flag</th>\n",
       "    </tr>\n",
       "  </thead>\n",
       "  <tbody>\n",
       "    <tr>\n",
       "      <th>0</th>\n",
       "      <td>177MF LLC-PITTS MODEL 12</td>\n",
       "      <td>0.0</td>\n",
       "      <td>2.0</td>\n",
       "      <td>0.0</td>\n",
       "      <td>0.0</td>\n",
       "      <td>600.0</td>\n",
       "      <td>1</td>\n",
       "      <td>Only 1 event</td>\n",
       "    </tr>\n",
       "    <tr>\n",
       "      <th>1</th>\n",
       "      <td>1st Ftr Gp-FOCKE-WULF 190</td>\n",
       "      <td>1.0</td>\n",
       "      <td>0.0</td>\n",
       "      <td>0.0</td>\n",
       "      <td>0.0</td>\n",
       "      <td>500.0</td>\n",
       "      <td>1</td>\n",
       "      <td>Only 1 event</td>\n",
       "    </tr>\n",
       "    <tr>\n",
       "      <th>2</th>\n",
       "      <td>2007 Savage Air LLC-EPIC LT</td>\n",
       "      <td>0.0</td>\n",
       "      <td>0.0</td>\n",
       "      <td>0.0</td>\n",
       "      <td>4.0</td>\n",
       "      <td>0.0</td>\n",
       "      <td>1</td>\n",
       "      <td>Only 1 event</td>\n",
       "    </tr>\n",
       "    <tr>\n",
       "      <th>3</th>\n",
       "      <td>2021FX3 LLC-CCX-2000</td>\n",
       "      <td>0.0</td>\n",
       "      <td>0.0</td>\n",
       "      <td>0.0</td>\n",
       "      <td>4.0</td>\n",
       "      <td>0.0</td>\n",
       "      <td>2</td>\n",
       "      <td>5 or less events</td>\n",
       "    </tr>\n",
       "    <tr>\n",
       "      <th>4</th>\n",
       "      <td>3XTRIM-450 ULTRA</td>\n",
       "      <td>1.0</td>\n",
       "      <td>0.0</td>\n",
       "      <td>1.0</td>\n",
       "      <td>0.0</td>\n",
       "      <td>600.0</td>\n",
       "      <td>1</td>\n",
       "      <td>Only 1 event</td>\n",
       "    </tr>\n",
       "  </tbody>\n",
       "</table>\n",
       "</div>"
      ],
      "text/plain": [
       "                    Identifier  Total.Fatal.Injuries  Total.Serious.Injuries  \\\n",
       "0     177MF LLC-PITTS MODEL 12                   0.0                     2.0   \n",
       "1    1st Ftr Gp-FOCKE-WULF 190                   1.0                     0.0   \n",
       "2  2007 Savage Air LLC-EPIC LT                   0.0                     0.0   \n",
       "3         2021FX3 LLC-CCX-2000                   0.0                     0.0   \n",
       "4             3XTRIM-450 ULTRA                   1.0                     0.0   \n",
       "\n",
       "   Total.Minor.Injuries  Total.Uninjured  Risk.Score  Event.Count  \\\n",
       "0                   0.0              0.0       600.0            1   \n",
       "1                   0.0              0.0       500.0            1   \n",
       "2                   0.0              4.0         0.0            1   \n",
       "3                   0.0              4.0         0.0            2   \n",
       "4                   1.0              0.0       600.0            1   \n",
       "\n",
       "               Flag  \n",
       "0      Only 1 event  \n",
       "1      Only 1 event  \n",
       "2      Only 1 event  \n",
       "3  5 or less events  \n",
       "4      Only 1 event  "
      ]
     },
     "execution_count": 18,
     "metadata": {},
     "output_type": "execute_result"
    }
   ],
   "source": [
    "# Creating an aggregated DataFrame\n",
    "\n",
    "df_4 = df_3.groupby('Identifier').agg({\n",
    "    'Total.Fatal.Injuries': 'sum',\n",
    "    'Total.Serious.Injuries': 'sum',\n",
    "    'Total.Minor.Injuries': 'sum',\n",
    "    'Total.Uninjured': 'sum',\n",
    "    'Risk.Score': 'sum',\n",
    "    'Event.Count': 'first',\n",
    "    'Flag': 'first'\n",
    "}).reset_index()\n",
    "\n",
    "df_4.head()"
   ]
  },
  {
   "cell_type": "code",
   "execution_count": 19,
   "id": "d811eda7",
   "metadata": {},
   "outputs": [
    {
     "data": {
      "text/plain": [
       "(12591, 8)"
      ]
     },
     "execution_count": 19,
     "metadata": {},
     "output_type": "execute_result"
    }
   ],
   "source": [
    "# Let's check how many of our aircrafts only have one registered event\n",
    "df_4[df_4['Flag'] == 'Only 1 event'].shape"
   ]
  },
  {
   "cell_type": "code",
   "execution_count": 20,
   "id": "2325ba57",
   "metadata": {},
   "outputs": [],
   "source": [
    "# The number is quite large so we can drop this category\n",
    "df_4 = df_4[df_4['Flag'] != 'Only 1 event']"
   ]
  },
  {
   "cell_type": "code",
   "execution_count": 21,
   "id": "f50eb767",
   "metadata": {},
   "outputs": [
    {
     "data": {
      "text/html": [
       "<div>\n",
       "<style scoped>\n",
       "    .dataframe tbody tr th:only-of-type {\n",
       "        vertical-align: middle;\n",
       "    }\n",
       "\n",
       "    .dataframe tbody tr th {\n",
       "        vertical-align: top;\n",
       "    }\n",
       "\n",
       "    .dataframe thead th {\n",
       "        text-align: right;\n",
       "    }\n",
       "</style>\n",
       "<table border=\"1\" class=\"dataframe\">\n",
       "  <thead>\n",
       "    <tr style=\"text-align: right;\">\n",
       "      <th></th>\n",
       "      <th>Identifier</th>\n",
       "      <th>Total.Fatal.Injuries</th>\n",
       "      <th>Total.Serious.Injuries</th>\n",
       "      <th>Total.Minor.Injuries</th>\n",
       "      <th>Total.Uninjured</th>\n",
       "      <th>Risk.Score</th>\n",
       "      <th>Event.Count</th>\n",
       "      <th>Flag</th>\n",
       "    </tr>\n",
       "  </thead>\n",
       "  <tbody>\n",
       "    <tr>\n",
       "      <th>0</th>\n",
       "      <td>2021FX3 LLC-CCX-2000</td>\n",
       "      <td>0.0</td>\n",
       "      <td>0.0</td>\n",
       "      <td>0.0</td>\n",
       "      <td>4.0</td>\n",
       "      <td>0.0</td>\n",
       "      <td>2</td>\n",
       "      <td>5 or less events</td>\n",
       "    </tr>\n",
       "    <tr>\n",
       "      <th>1</th>\n",
       "      <td>Cessna-C-180J</td>\n",
       "      <td>0.0</td>\n",
       "      <td>0.0</td>\n",
       "      <td>0.0</td>\n",
       "      <td>3.0</td>\n",
       "      <td>0.0</td>\n",
       "      <td>2</td>\n",
       "      <td>5 or less events</td>\n",
       "    </tr>\n",
       "    <tr>\n",
       "      <th>2</th>\n",
       "      <td>Cessna-C-182J</td>\n",
       "      <td>0.0</td>\n",
       "      <td>0.0</td>\n",
       "      <td>0.0</td>\n",
       "      <td>8.0</td>\n",
       "      <td>0.0</td>\n",
       "      <td>2</td>\n",
       "      <td>5 or less events</td>\n",
       "    </tr>\n",
       "    <tr>\n",
       "      <th>3</th>\n",
       "      <td>Cessna-C-182P</td>\n",
       "      <td>0.0</td>\n",
       "      <td>0.0</td>\n",
       "      <td>0.0</td>\n",
       "      <td>5.0</td>\n",
       "      <td>0.0</td>\n",
       "      <td>2</td>\n",
       "      <td>5 or less events</td>\n",
       "    </tr>\n",
       "    <tr>\n",
       "      <th>4</th>\n",
       "      <td>Cessna-C-402</td>\n",
       "      <td>0.0</td>\n",
       "      <td>0.0</td>\n",
       "      <td>0.0</td>\n",
       "      <td>6.0</td>\n",
       "      <td>0.0</td>\n",
       "      <td>2</td>\n",
       "      <td>5 or less events</td>\n",
       "    </tr>\n",
       "    <tr>\n",
       "      <th>5</th>\n",
       "      <td>Cessna-C152</td>\n",
       "      <td>0.0</td>\n",
       "      <td>0.0</td>\n",
       "      <td>0.0</td>\n",
       "      <td>4.0</td>\n",
       "      <td>0.0</td>\n",
       "      <td>3</td>\n",
       "      <td>5 or less events</td>\n",
       "    </tr>\n",
       "    <tr>\n",
       "      <th>6</th>\n",
       "      <td>Cessna-C172M</td>\n",
       "      <td>0.0</td>\n",
       "      <td>0.0</td>\n",
       "      <td>0.0</td>\n",
       "      <td>5.0</td>\n",
       "      <td>0.0</td>\n",
       "      <td>4</td>\n",
       "      <td>5 or less events</td>\n",
       "    </tr>\n",
       "    <tr>\n",
       "      <th>7</th>\n",
       "      <td>Cessna-C177B</td>\n",
       "      <td>0.0</td>\n",
       "      <td>0.0</td>\n",
       "      <td>0.0</td>\n",
       "      <td>2.0</td>\n",
       "      <td>0.0</td>\n",
       "      <td>2</td>\n",
       "      <td>5 or less events</td>\n",
       "    </tr>\n",
       "    <tr>\n",
       "      <th>8</th>\n",
       "      <td>Cessna-C182</td>\n",
       "      <td>0.0</td>\n",
       "      <td>0.0</td>\n",
       "      <td>0.0</td>\n",
       "      <td>5.0</td>\n",
       "      <td>0.0</td>\n",
       "      <td>2</td>\n",
       "      <td>5 or less events</td>\n",
       "    </tr>\n",
       "    <tr>\n",
       "      <th>9</th>\n",
       "      <td>Cessna-CE-152</td>\n",
       "      <td>0.0</td>\n",
       "      <td>0.0</td>\n",
       "      <td>0.0</td>\n",
       "      <td>2.0</td>\n",
       "      <td>0.0</td>\n",
       "      <td>2</td>\n",
       "      <td>5 or less events</td>\n",
       "    </tr>\n",
       "  </tbody>\n",
       "</table>\n",
       "</div>"
      ],
      "text/plain": [
       "             Identifier  Total.Fatal.Injuries  Total.Serious.Injuries  \\\n",
       "0  2021FX3 LLC-CCX-2000                   0.0                     0.0   \n",
       "1         Cessna-C-180J                   0.0                     0.0   \n",
       "2         Cessna-C-182J                   0.0                     0.0   \n",
       "3         Cessna-C-182P                   0.0                     0.0   \n",
       "4          Cessna-C-402                   0.0                     0.0   \n",
       "5           Cessna-C152                   0.0                     0.0   \n",
       "6          Cessna-C172M                   0.0                     0.0   \n",
       "7          Cessna-C177B                   0.0                     0.0   \n",
       "8           Cessna-C182                   0.0                     0.0   \n",
       "9         Cessna-CE-152                   0.0                     0.0   \n",
       "\n",
       "   Total.Minor.Injuries  Total.Uninjured  Risk.Score  Event.Count  \\\n",
       "0                   0.0              4.0         0.0            2   \n",
       "1                   0.0              3.0         0.0            2   \n",
       "2                   0.0              8.0         0.0            2   \n",
       "3                   0.0              5.0         0.0            2   \n",
       "4                   0.0              6.0         0.0            2   \n",
       "5                   0.0              4.0         0.0            3   \n",
       "6                   0.0              5.0         0.0            4   \n",
       "7                   0.0              2.0         0.0            2   \n",
       "8                   0.0              5.0         0.0            2   \n",
       "9                   0.0              2.0         0.0            2   \n",
       "\n",
       "               Flag  \n",
       "0  5 or less events  \n",
       "1  5 or less events  \n",
       "2  5 or less events  \n",
       "3  5 or less events  \n",
       "4  5 or less events  \n",
       "5  5 or less events  \n",
       "6  5 or less events  \n",
       "7  5 or less events  \n",
       "8  5 or less events  \n",
       "9  5 or less events  "
      ]
     },
     "execution_count": 21,
     "metadata": {},
     "output_type": "execute_result"
    }
   ],
   "source": [
    "# Let's sort them by 'Risk.Score' values\n",
    "df_4 = df_4.sort_values(by='Risk.Score', ascending=True).reset_index(drop = True)\n",
    "df_4.head(10)"
   ]
  },
  {
   "cell_type": "markdown",
   "id": "393d0da3",
   "metadata": {},
   "source": [
    "Our Dataset is now ready for exportation. We can do some visualisations using matplotlib before exporting to tableau"
   ]
  },
  {
   "cell_type": "code",
   "execution_count": 22,
   "id": "382d21ae",
   "metadata": {},
   "outputs": [
    {
     "data": {
      "image/png": "[encoded data removed]",
      "text/plain": [
       "<Figure size 640x480 with 1 Axes>"
      ]
     },
     "metadata": {},
     "output_type": "display_data"
    }
   ],
   "source": [
    "# Let's see the 20 safest aircrafts with sufficient data\n",
    "df_4[df_4['Flag'] == 'Sufficient Data']['Risk.Score'].iloc[0: 19].plot.bar()\n",
    "plt.show()"
   ]
  },
  {
   "cell_type": "code",
   "execution_count": 23,
   "id": "353af966",
   "metadata": {},
   "outputs": [
    {
     "data": {
      "image/png": "[encoded data removed]",
      "text/plain": [
       "<Figure size 640x480 with 1 Axes>"
      ]
     },
     "metadata": {},
     "output_type": "display_data"
    }
   ],
   "source": [
    "# Let's see the 20 least safe aircrafts\n",
    "df_4['Risk.Score'].tail(20).plot.bar()\n",
    "plt.show()"
   ]
  },
  {
   "cell_type": "code",
   "execution_count": 24,
   "id": "72b66b62",
   "metadata": {},
   "outputs": [],
   "source": [
    "# We can now export our dataframe to a csv file\n",
    "\n",
    "df_4.to_csv(\"aircraft_risk_2.csv\", index=False)"
   ]
  },
  {
   "cell_type": "code",
   "execution_count": 25,
   "id": "f5a00e97",
   "metadata": {},
   "outputs": [
    {
     "data": {
      "text/plain": [
       "116       0.0\n",
       "834     200.0\n",
       "905     200.0\n",
       "1250    400.0\n",
       "1257    400.0\n",
       "1262    400.0\n",
       "1333    500.0\n",
       "1372    500.0\n",
       "1496    500.0\n",
       "1554    600.0\n",
       "1572    600.0\n",
       "1597    600.0\n",
       "1629    600.0\n",
       "1663    600.0\n",
       "1669    600.0\n",
       "1700    600.0\n",
       "1739    700.0\n",
       "1743    700.0\n",
       "1758    700.0\n",
       "1769    700.0\n",
       "Name: Risk.Score, dtype: float64"
      ]
     },
     "execution_count": 25,
     "metadata": {},
     "output_type": "execute_result"
    }
   ],
   "source": [
    "df_4[df_4['Flag'] == 'Sufficient Data']['Risk.Score'].head(20)"
   ]
  }
 ],
 "metadata": {
  "kernelspec": {
   "display_name": "base",
   "language": "python",
   "name": "python3"
  },
  "language_info": {
   "codemirror_mode": {
    "name": "ipython",
    "version": 3
   },
   "file_extension": ".py",
   "mimetype": "text/x-python",
   "name": "python",
   "nbconvert_exporter": "python",
   "pygments_lexer": "ipython3",
   "version": "3.12.7"
  }
 },
 "nbformat": 4,
 "nbformat_minor": 5
}
